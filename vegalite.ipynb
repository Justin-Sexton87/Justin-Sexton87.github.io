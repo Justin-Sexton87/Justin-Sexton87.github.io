{
  "cells": [
    {
      "cell_type": "raw",
      "metadata": {},
      "source": [
        "---\n",
        "title: \"\"\n",
        "---"
      ],
      "id": "b829d784"
    },
    {
      "cell_type": "markdown",
      "metadata": {},
      "source": [
        "# Vega-lite code in OJS\n",
        "\n",
        "\n",
        "```{obj}\n",
        "require(\"vega@5.22.1\")\n",
        "require(\"vega-lite@5.2.0\")\n",
        "require(\"vega-embed@6.20.8\")\n",
        "\n",
        "const spec = {\n",
        "  \"$schema\": \"https://vega.github.io/schema/vega-lite/v5.json\",\n",
        "  \"width\": \"container\",\n",
        "  \"height\": \"container\",\n",
        "  \"data\": {\"url\": \"data/seattle-weather.csv\"},\n",
        "  \"layer\": [\n",
        "    {\n",
        "      \"params\": [\n",
        "        {\"name\": \"brush\", \"select\": {\"type\": \"interval\", \"encodings\": [\"x\"]}}\n",
        "      ],\n",
        "      \"mark\": \"bar\",\n",
        "      \"encoding\": {\n",
        "        \"x\": {\"timeUnit\": \"month\", \"field\": \"date\", \"type\": \"ordinal\"},\n",
        "        \"y\": {\n",
        "          \"aggregate\": \"mean\",\n",
        "          \"field\": \"precipitation\",\n",
        "          \"type\": \"quantitative\"\n",
        "        },\n",
        "        \"opacity\": {\"condition\": {\"param\": \"brush\", \"value\": 1}, \"value\": 0.7}\n",
        "      }\n",
        "    },\n",
        "    {\n",
        "      \"transform\": [{\"filter\": {\"param\": \"brush\"}}],\n",
        "      \"mark\": \"rule\",\n",
        "      \"encoding\": {\n",
        "        \"y\": {\n",
        "          \"aggregate\": \"mean\",\n",
        "          \"field\": \"precipitation\",\n",
        "          \"type\": \"quantitative\"\n",
        "        },\n",
        "        \"color\": {\"value\": \"firebrick\"},\n",
        "        \"size\": {\"value\": 3}\n",
        "      }\n",
        "    }\n",
        "  ],\n",
        "  \"config\": {}\n",
        "};\n",
        "    vegaEmbed(\"#vis\", spec, {mode: \"vega-lite\"}).then(console.log).catch(console.warn);\n",
        "\n",
        "\n",
        "```"
      ],
      "id": "31bc2cf8"
    }
  ],
  "metadata": {
    "kernelspec": {
      "name": "python37432bitenvvenv634a407f5cb54987ad11887ee06220c3",
      "language": "python",
      "display_name": "Python 3.7.4 32-bit ('env': venv)"
    }
  },
  "nbformat": 4,
  "nbformat_minor": 5
}